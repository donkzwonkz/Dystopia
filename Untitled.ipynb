{
 "cells": [
  {
   "cell_type": "code",
   "execution_count": 1,
   "metadata": {},
   "outputs": [],
   "source": [
    "import pickle\n",
    "import numpy as np"
   ]
  },
  {
   "cell_type": "code",
   "execution_count": 2,
   "metadata": {},
   "outputs": [],
   "source": [
    "faces=pickle.load(open(\"faces.p\",\"rb\"))"
   ]
  },
  {
   "cell_type": "code",
   "execution_count": 3,
   "metadata": {},
   "outputs": [
    {
     "name": "stdout",
     "output_type": "stream",
     "text": [
      "{'keane': 1, 'tham': 2, 'shuan': 3, 'Tham': array([[[[ 26.,  19.,  15.],\n",
      "         [ 26.,  19.,  12.],\n",
      "         [ 24.,  18.,  14.],\n",
      "         ...,\n",
      "         [148., 105.,  70.],\n",
      "         [146., 102.,  65.],\n",
      "         [141.,  97.,  60.]],\n",
      "\n",
      "        [[ 35.,  28.,  24.],\n",
      "         [ 29.,  22.,  14.],\n",
      "         [ 27.,  19.,  16.],\n",
      "         ...,\n",
      "         [146., 103.,  68.],\n",
      "         [145., 101.,  64.],\n",
      "         [146., 102.,  65.]],\n",
      "\n",
      "        [[ 31.,  26.,  20.],\n",
      "         [ 28.,  23.,  17.],\n",
      "         [ 28.,  22.,  17.],\n",
      "         ...,\n",
      "         [147., 104.,  70.],\n",
      "         [145.,  96.,  63.],\n",
      "         [144.,  98.,  64.]],\n",
      "\n",
      "        ...,\n",
      "\n",
      "        [[ 83.,  57.,  40.],\n",
      "         [ 86.,  60.,  43.],\n",
      "         [ 86.,  60.,  43.],\n",
      "         ...,\n",
      "         [128.,  91.,  64.],\n",
      "         [133.,  96.,  70.],\n",
      "         [131.,  94.,  67.]],\n",
      "\n",
      "        [[ 78.,  52.,  37.],\n",
      "         [ 84.,  58.,  43.],\n",
      "         [ 83.,  56.,  41.],\n",
      "         ...,\n",
      "         [131.,  94.,  67.],\n",
      "         [131.,  94.,  68.],\n",
      "         [133.,  95.,  69.]],\n",
      "\n",
      "        [[ 78.,  54.,  41.],\n",
      "         [ 78.,  52.,  37.],\n",
      "         [ 88.,  60.,  46.],\n",
      "         ...,\n",
      "         [131.,  91.,  65.],\n",
      "         [139.,  99.,  73.],\n",
      "         [133.,  93.,  66.]]]])}\n"
     ]
    }
   ],
   "source": []
  }
 ],
 "metadata": {
  "kernelspec": {
   "display_name": "Python 3",
   "language": "python",
   "name": "python3"
  },
  "language_info": {
   "codemirror_mode": {
    "name": "ipython",
    "version": 3
   },
   "file_extension": ".py",
   "mimetype": "text/x-python",
   "name": "python",
   "nbconvert_exporter": "python",
   "pygments_lexer": "ipython3",
   "version": "3.7.6"
  }
 },
 "nbformat": 4,
 "nbformat_minor": 4
}
